{
 "cells": [
  {
   "cell_type": "code",
   "execution_count": null,
   "metadata": {},
   "outputs": [],
   "source": [
    "import pandas as pd\n",
    "import numpy as np\n",
    "import seaborn as sb\n",
    "import matplotlib.pyplot as plt\n",
    "%matplotlib inline"
   ]
  },
  {
   "cell_type": "code",
   "execution_count": null,
   "metadata": {},
   "outputs": [],
   "source": [
    "np.random.seed(1234)\n",
    "df_1 = pd.DataFrame({'A': ['a', 'b', 'c', 'd']*5,\n",
    "                     'B': np.random.randn(20),\n",
    "                     'C': np.random.randint(7, size=20)})\n",
    "df_2 = pd.read_csv('../data/pandas_2_df_2.csv')\n",
    "df_3 = pd.read_csv('../data/pandas_2_df_3.csv')"
   ]
  },
  {
   "cell_type": "markdown",
   "metadata": {},
   "source": [
    "# Assignment 2.1\n",
    "Find the minimum, maximum and median values of all columns for each unique value in column `A` in DataFrame `df_1`.The `groupby` method on a pandas DataFrame has the possibility to group by the index values by using `.groupby(level=0)`\n",
    "<details><summary>Hint 1</summary>\n",
    "    <p>\n",
    "        Use the `groupby` method on a DataFrame to compute aggregate values for each unique value in a column\n",
    "    </p>\n",
    "</details>\n",
    "<details><summary>Hint 2</summary>\n",
    "    <p>\n",
    "        It is possible to apply multiple aggregation functions to a `groupby` object by using the `agg` method and providing the function names as a list of strings\n",
    "    </p>\n",
    "</details>"
   ]
  },
  {
   "cell_type": "code",
   "execution_count": null,
   "metadata": {},
   "outputs": [],
   "source": [
    "df_1.groupby('A').agg(['min', 'max', 'median'])"
   ]
  },
  {
   "cell_type": "markdown",
   "metadata": {},
   "source": [
    "# Assignment 2.2\n",
    "For each unique combination of values from columns `A` and `C`, find the average of the values in column `B`. Return a DataFrame with columns `A`, `B_avg` and `C`, where `B_avg` holds the result of the average over the `B` column, while `A` and `C` hold the values for the unique combinations.\n",
    "<details><summary>Hint 1</summary>\n",
    "    <p>\n",
    "        The `groupby` method on a pandas DataFrame can take a list of column names as input, and will group by every unique combination of values in the listed columns\n",
    "    </p>\n",
    "</details>\n",
    "<details><summary>Hint 2</summary>\n",
    "    <p>\n",
    "        Applying a single aggregate function to a `groupby` object returns a Series. This series has a method `rename` for renaming it\n",
    "    </p>\n",
    "</details>"
   ]
  },
  {
   "cell_type": "code",
   "execution_count": null,
   "metadata": {},
   "outputs": [],
   "source": [
    "df_1.groupby(['A','C'])['B'].mean().rename('B_avg').reset_index()"
   ]
  },
  {
   "cell_type": "markdown",
   "metadata": {},
   "source": [
    "# Assignment 2.3\n",
    "The DataFrame `df_2` contains students' ID (`student_id`), their ID's of the courses (`course_id`) and their grade (`grade`). Compute, for every student, the ratio of grades that are A's or B's.\n",
    "<details><summary>Hint 1</summary>\n",
    "    <p>\n",
    "        The `groupby` method on a pandas DataFrame has the possibility to group by the index values by using `.groupby(level=0)`\n",
    "    </p>\n",
    "</details>\n",
    "<details><summary>Hint 2</summary>\n",
    "    <p>\n",
    "        Applying a numerical aggregate function to a Boolean Series, leads pandas interpreting True as a 1 and False as a 0\n",
    "    </p>\n",
    "</details>"
   ]
  },
  {
   "cell_type": "code",
   "execution_count": null,
   "metadata": {},
   "outputs": [],
   "source": [
    "df_2.groupby('student_id')['grade'].apply(lambda s: s.isin(['A', 'B']).mean())"
   ]
  },
  {
   "cell_type": "markdown",
   "metadata": {},
   "source": [
    "# Assignment 2.4\n",
    "The DataFrame `df_3` contains a series of columns named after the pattern `variable name`_`time lag`, e.g. the variable `A` has current time unit's value, plus that of the last three time units, stored in `A_0`, `A_1`, `A_2`, `A_3`. Compute the average over all time lags for every variable name for every record. Return a DataFrame with the `customer_id` as index and the average of every variable as columns.\n",
    "\n",
    "All lag variables in DataFrame ends with _ and a single number.\n",
    "<details><summary>Hint 1</summary>\n",
    "    <p>\n",
    "        It is possible to group by columns by specifying `axis=1` as part of the input to the method\n",
    "    </p>\n",
    "</details>\n",
    "<details><summary>Hint 2</summary>\n",
    "    <p>\n",
    "        One can control which rows or columns are grouped together by supplying a list of values to the `by` parameter in the method\n",
    "    </p>\n",
    "</details>\n",
    "<details><summary>Hint 3</summary>\n",
    "    <p>\n",
    "        The python function `map` can apply a function to every element of a list\n",
    "    </p>\n",
    "</details>"
   ]
  },
  {
   "cell_type": "code",
   "execution_count": null,
   "metadata": {},
   "outputs": [],
   "source": [
    "column_groups = list(map(lambda s: s[:-2],df_3.set_index('customer_id').columns.tolist()))\n",
    "df_3.set_index('customer_id').groupby(by=column_groups, axis=1).mean()"
   ]
  },
  {
   "cell_type": "markdown",
   "metadata": {},
   "source": [
    "# Assignment 2.5\n",
    "Valid address for every record in customer table, taken from historic address table"
   ]
  },
  {
   "cell_type": "code",
   "execution_count": null,
   "metadata": {},
   "outputs": [],
   "source": []
  }
 ],
 "metadata": {
  "kernelspec": {
   "display_name": "Python 3",
   "language": "python",
   "name": "python3"
  },
  "language_info": {
   "codemirror_mode": {
    "name": "ipython",
    "version": 3
   },
   "file_extension": ".py",
   "mimetype": "text/x-python",
   "name": "python",
   "nbconvert_exporter": "python",
   "pygments_lexer": "ipython3",
   "version": "3.6.4"
  }
 },
 "nbformat": 4,
 "nbformat_minor": 2
}
